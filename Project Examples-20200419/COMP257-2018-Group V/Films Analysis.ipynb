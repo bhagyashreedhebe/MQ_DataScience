{
 "cells": [
  {
   "cell_type": "markdown",
   "metadata": {},
   "source": [
    "# Films Analysis #\n",
    "\n",
    "A set of 7000+ movies have been scraped from [Wikipedia](en.wikipedia.org) (details on this approach are listed in the **Film Scraper Demo** notebook). Our focus for this data set are starring actors of the films. The dataset contains list of names of people work on the film in a range of roles along with budget, box office and release date. The dataset also contains metadata acquired by the scraper from Wikipedia. Metadata includes the unique \"slug\" (the suffix of the page's URL), the page URL itself and the official poster image.\n",
    "\n",
    "As expected the raw data originally exhibited inconsistencies due to differing page formats and the inclusion of international films. The data has been cleaned automatically (by dropping missing values and outliers) and also manually in Excel. Films with substantial amount of issues were removed, those with only slight errors were corrected. It is possible a small amount of hard to identify yet incorrect data remains.\n",
    "\n",
    "The hope for this data is to create a classifier that can **predict the 'success' of a film by the starring actors**. The concept of what makes a film successful is a predominant factor of our analysis and is addressed in the **Reviews Analysis** notebook."
   ]
  },
  {
   "cell_type": "code",
   "execution_count": 1,
   "metadata": {},
   "outputs": [],
   "source": [
    "import pandas            as pd\n",
    "import numpy             as np\n",
    "import matplotlib.pyplot as plt\n",
    "\n",
    "from sklearn.model_selection import train_test_split\n",
    "from sklearn.impute          import SimpleImputer\n",
    "from sklearn.linear_model    import LinearRegression\n",
    "from sklearn.ensemble        import RandomForestRegressor\n",
    "from sklearn.metrics         import mean_squared_error, accuracy_score, r2_score\n",
    "\n",
    "from collections import Counter\n",
    "from functools   import lru_cache\n",
    "from random      import seed, sample\n",
    "from math        import sqrt\n",
    "\n",
    "from IPython.core.display import Image, display\n",
    "\n",
    "# money transformations\n",
    "per_million = lambda n: n / 10**6\n",
    "per_billion = lambda n: n / 10**9\n",
    "\n",
    "# tuple access\n",
    "first       = lambda t: t[0]\n",
    "second      = lambda t: t[1]\n",
    "\n",
    "# seed RNG\n",
    "seed(20)\n",
    "\n",
    "%matplotlib inline\n",
    "plt.style.use('ggplot')\n",
    "plt.rcParams['figure.figsize'] = 15, 6"
   ]
  },
  {
   "cell_type": "code",
   "execution_count": 2,
   "metadata": {},
   "outputs": [
    {
     "data": {
      "text/html": [
       "<style>table {float:left}</style>"
      ],
      "text/plain": [
       "<IPython.core.display.HTML object>"
      ]
     },
     "metadata": {},
     "output_type": "display_data"
    }
   ],
   "source": [
    "%%html\n",
    "<style>table {float:left}</style>"
   ]
  },
  {
   "cell_type": "markdown",
   "metadata": {},
   "source": [
    "## The Films Dataset ##\n",
    "\n",
    "Films released between 1970 and 2017."
   ]
  },
  {
   "cell_type": "code",
   "execution_count": 3,
   "metadata": {},
   "outputs": [
    {
     "name": "stdout",
     "output_type": "stream",
     "text": [
      "count: 7109\n"
     ]
    },
    {
     "data": {
      "text/html": [
       "<div>\n",
       "<style scoped>\n",
       "    .dataframe tbody tr th:only-of-type {\n",
       "        vertical-align: middle;\n",
       "    }\n",
       "\n",
       "    .dataframe tbody tr th {\n",
       "        vertical-align: top;\n",
       "    }\n",
       "\n",
       "    .dataframe thead th {\n",
       "        text-align: right;\n",
       "    }\n",
       "</style>\n",
       "<table border=\"1\" class=\"dataframe\">\n",
       "  <thead>\n",
       "    <tr style=\"text-align: right;\">\n",
       "      <th></th>\n",
       "      <th>wiki_slug</th>\n",
       "      <th>title</th>\n",
       "      <th>director_0</th>\n",
       "      <th>director_1</th>\n",
       "      <th>producer_0</th>\n",
       "      <th>producer_1</th>\n",
       "      <th>producer_2</th>\n",
       "      <th>producer_3</th>\n",
       "      <th>writer_0</th>\n",
       "      <th>writer_1</th>\n",
       "      <th>...</th>\n",
       "      <th>starring_3</th>\n",
       "      <th>starring_4</th>\n",
       "      <th>starring_5</th>\n",
       "      <th>starring_6</th>\n",
       "      <th>starring_7</th>\n",
       "      <th>released</th>\n",
       "      <th>budget</th>\n",
       "      <th>box_office</th>\n",
       "      <th>wiki_poster_url</th>\n",
       "      <th>wiki_url</th>\n",
       "    </tr>\n",
       "  </thead>\n",
       "  <tbody>\n",
       "    <tr>\n",
       "      <th>0</th>\n",
       "      <td>Avatar_(2009_film)</td>\n",
       "      <td>Avatar</td>\n",
       "      <td>James Cameron</td>\n",
       "      <td>NaN</td>\n",
       "      <td>James Cameron</td>\n",
       "      <td>Jon Landau</td>\n",
       "      <td>NaN</td>\n",
       "      <td>NaN</td>\n",
       "      <td>James Cameron</td>\n",
       "      <td>NaN</td>\n",
       "      <td>...</td>\n",
       "      <td>Michelle Rodriguez</td>\n",
       "      <td>Sigourney Weaver</td>\n",
       "      <td>NaN</td>\n",
       "      <td>NaN</td>\n",
       "      <td>NaN</td>\n",
       "      <td>2009-12-18</td>\n",
       "      <td>237000000.0</td>\n",
       "      <td>2.788000e+09</td>\n",
       "      <td>https://upload.wikimedia.org/wikipedia/en/thum...</td>\n",
       "      <td>https://en.wikipedia.org/wiki/Avatar_(2009_film)</td>\n",
       "    </tr>\n",
       "    <tr>\n",
       "      <th>1</th>\n",
       "      <td>Titanic_(1997_film)</td>\n",
       "      <td>Titanic</td>\n",
       "      <td>James Cameron</td>\n",
       "      <td>NaN</td>\n",
       "      <td>James Cameron</td>\n",
       "      <td>Jon Landau</td>\n",
       "      <td>NaN</td>\n",
       "      <td>NaN</td>\n",
       "      <td>James Cameron</td>\n",
       "      <td>NaN</td>\n",
       "      <td>...</td>\n",
       "      <td>Kathy Bates</td>\n",
       "      <td>Frances Fisher</td>\n",
       "      <td>Bernard Hill</td>\n",
       "      <td>Jonathan Hyde</td>\n",
       "      <td>Danny Nucci</td>\n",
       "      <td>1997-12-19</td>\n",
       "      <td>200000000.0</td>\n",
       "      <td>2.187000e+09</td>\n",
       "      <td>https://upload.wikimedia.org/wikipedia/en/2/22...</td>\n",
       "      <td>https://en.wikipedia.org/wiki/Titanic_(1997_film)</td>\n",
       "    </tr>\n",
       "    <tr>\n",
       "      <th>2</th>\n",
       "      <td>Star_Wars:_The_Force_Awakens</td>\n",
       "      <td>Star Wars: The Force Awakens</td>\n",
       "      <td>J. J. Abrams</td>\n",
       "      <td>NaN</td>\n",
       "      <td>Kathleen Kennedy</td>\n",
       "      <td>J. J. Abrams</td>\n",
       "      <td>Bryan Burk</td>\n",
       "      <td>NaN</td>\n",
       "      <td>Lawrence Kasdan</td>\n",
       "      <td>J. J. Abrams</td>\n",
       "      <td>...</td>\n",
       "      <td>Adam Driver</td>\n",
       "      <td>Daisy Ridley</td>\n",
       "      <td>John Boyega</td>\n",
       "      <td>Oscar Isaac</td>\n",
       "      <td>Lupita Nyong'o</td>\n",
       "      <td>2015-12-18</td>\n",
       "      <td>306000000.0</td>\n",
       "      <td>2.068000e+09</td>\n",
       "      <td>https://upload.wikimedia.org/wikipedia/en/a/a2...</td>\n",
       "      <td>https://en.wikipedia.org/wiki/Star_Wars:_The_F...</td>\n",
       "    </tr>\n",
       "    <tr>\n",
       "      <th>3</th>\n",
       "      <td>Jurassic_World</td>\n",
       "      <td>Jurassic World</td>\n",
       "      <td>Colin Trevorrow</td>\n",
       "      <td>NaN</td>\n",
       "      <td>Frank Marshall</td>\n",
       "      <td>Patrick Crowley</td>\n",
       "      <td>NaN</td>\n",
       "      <td>NaN</td>\n",
       "      <td>Rick Jaffa</td>\n",
       "      <td>Amanda Silver</td>\n",
       "      <td>...</td>\n",
       "      <td>Ty Simpkins</td>\n",
       "      <td>Nick Robinson</td>\n",
       "      <td>Omar Sy</td>\n",
       "      <td>BD Wong</td>\n",
       "      <td>Irrfan Khan</td>\n",
       "      <td>2015-12-06</td>\n",
       "      <td>150000000.0</td>\n",
       "      <td>1.672000e+09</td>\n",
       "      <td>https://upload.wikimedia.org/wikipedia/en/thum...</td>\n",
       "      <td>https://en.wikipedia.org/wiki/Jurassic_World</td>\n",
       "    </tr>\n",
       "    <tr>\n",
       "      <th>4</th>\n",
       "      <td>The_Avengers_(2012_film)</td>\n",
       "      <td>The Avengers</td>\n",
       "      <td>Joss Whedon</td>\n",
       "      <td>NaN</td>\n",
       "      <td>Kevin Feige</td>\n",
       "      <td>NaN</td>\n",
       "      <td>NaN</td>\n",
       "      <td>NaN</td>\n",
       "      <td>Joss Whedon</td>\n",
       "      <td>NaN</td>\n",
       "      <td>...</td>\n",
       "      <td>Chris Hemsworth</td>\n",
       "      <td>Scarlett Johansson</td>\n",
       "      <td>Jeremy Renner</td>\n",
       "      <td>Tom Hiddleston</td>\n",
       "      <td>Clark Gregg</td>\n",
       "      <td>2012-04-05</td>\n",
       "      <td>220000000.0</td>\n",
       "      <td>1.519000e+09</td>\n",
       "      <td>https://upload.wikimedia.org/wikipedia/en/f/f9...</td>\n",
       "      <td>https://en.wikipedia.org/wiki/The_Avengers_(20...</td>\n",
       "    </tr>\n",
       "  </tbody>\n",
       "</table>\n",
       "<p>5 rows × 25 columns</p>\n",
       "</div>"
      ],
      "text/plain": [
       "                      wiki_slug                         title  \\\n",
       "0            Avatar_(2009_film)                        Avatar   \n",
       "1           Titanic_(1997_film)                       Titanic   \n",
       "2  Star_Wars:_The_Force_Awakens  Star Wars: The Force Awakens   \n",
       "3                Jurassic_World                Jurassic World   \n",
       "4      The_Avengers_(2012_film)                  The Avengers   \n",
       "\n",
       "        director_0 director_1        producer_0       producer_1  producer_2  \\\n",
       "0    James Cameron        NaN     James Cameron       Jon Landau         NaN   \n",
       "1    James Cameron        NaN     James Cameron       Jon Landau         NaN   \n",
       "2     J. J. Abrams        NaN  Kathleen Kennedy     J. J. Abrams  Bryan Burk   \n",
       "3  Colin Trevorrow        NaN    Frank Marshall  Patrick Crowley         NaN   \n",
       "4      Joss Whedon        NaN       Kevin Feige              NaN         NaN   \n",
       "\n",
       "  producer_3         writer_0       writer_1  \\\n",
       "0        NaN    James Cameron            NaN   \n",
       "1        NaN    James Cameron            NaN   \n",
       "2        NaN  Lawrence Kasdan   J. J. Abrams   \n",
       "3        NaN       Rick Jaffa  Amanda Silver   \n",
       "4        NaN      Joss Whedon            NaN   \n",
       "\n",
       "                         ...                                  starring_3  \\\n",
       "0                        ...                          Michelle Rodriguez   \n",
       "1                        ...                                 Kathy Bates   \n",
       "2                        ...                                 Adam Driver   \n",
       "3                        ...                                 Ty Simpkins   \n",
       "4                        ...                             Chris Hemsworth   \n",
       "\n",
       "           starring_4     starring_5      starring_6      starring_7  \\\n",
       "0    Sigourney Weaver            NaN             NaN             NaN   \n",
       "1      Frances Fisher   Bernard Hill   Jonathan Hyde     Danny Nucci   \n",
       "2        Daisy Ridley    John Boyega     Oscar Isaac  Lupita Nyong'o   \n",
       "3       Nick Robinson        Omar Sy         BD Wong     Irrfan Khan   \n",
       "4  Scarlett Johansson  Jeremy Renner  Tom Hiddleston     Clark Gregg   \n",
       "\n",
       "    released       budget    box_office  \\\n",
       "0 2009-12-18  237000000.0  2.788000e+09   \n",
       "1 1997-12-19  200000000.0  2.187000e+09   \n",
       "2 2015-12-18  306000000.0  2.068000e+09   \n",
       "3 2015-12-06  150000000.0  1.672000e+09   \n",
       "4 2012-04-05  220000000.0  1.519000e+09   \n",
       "\n",
       "                                     wiki_poster_url  \\\n",
       "0  https://upload.wikimedia.org/wikipedia/en/thum...   \n",
       "1  https://upload.wikimedia.org/wikipedia/en/2/22...   \n",
       "2  https://upload.wikimedia.org/wikipedia/en/a/a2...   \n",
       "3  https://upload.wikimedia.org/wikipedia/en/thum...   \n",
       "4  https://upload.wikimedia.org/wikipedia/en/f/f9...   \n",
       "\n",
       "                                            wiki_url  \n",
       "0   https://en.wikipedia.org/wiki/Avatar_(2009_film)  \n",
       "1  https://en.wikipedia.org/wiki/Titanic_(1997_film)  \n",
       "2  https://en.wikipedia.org/wiki/Star_Wars:_The_F...  \n",
       "3       https://en.wikipedia.org/wiki/Jurassic_World  \n",
       "4  https://en.wikipedia.org/wiki/The_Avengers_(20...  \n",
       "\n",
       "[5 rows x 25 columns]"
      ]
     },
     "execution_count": 3,
     "metadata": {},
     "output_type": "execute_result"
    }
   ],
   "source": [
    "df = pd.read_csv(\"../data/films-1970-2017-clean.csv\", parse_dates=[\"released\"])\n",
    "\n",
    "print(\"count:\", len(df))\n",
    "df.head()"
   ]
  },
  {
   "cell_type": "markdown",
   "metadata": {},
   "source": [
    "## Composition of the Dataset ##\n",
    "\n",
    "The dataset holds details for a range of roles for the people behind the film, when creating the dataset, we needed we wanted to maintain the ordered list of people for each role (such as director, producers, writers and actors) This was achieved by including the role multiple times with a numbered suffixed such as **starring_0, starring_1, etc. **.\n",
    "\n",
    "Below we can take a peek into some of the information for the film **Titanic**."
   ]
  },
  {
   "cell_type": "code",
   "execution_count": 4,
   "metadata": {},
   "outputs": [
    {
     "name": "stdout",
     "output_type": "stream",
     "text": [
      "Titanic\n",
      "Directed by: James Cameron\n",
      "Starring: Leonardo DiCaprio, Kate Winslet, ...\n",
      "Budget:     $200  million USD\n",
      "Box office: $2.19 billion USD\n"
     ]
    },
    {
     "data": {
      "image/jpeg": "[encoded data removed]",
      "text/plain": [
       "<IPython.core.display.Image object>"
      ]
     },
     "metadata": {},
     "output_type": "display_data"
    }
   ],
   "source": [
    "titanic = df.loc[df.title == \"Titanic\"].squeeze()\n",
    "\n",
    "print(titanic.title)\n",
    "print(\"Directed by:\", titanic.director_0)\n",
    "print(\"Starring: %s, %s, ...\" % (titanic[\"starring_0\"], titanic[\"starring_1\"]))\n",
    "print(\"Budget:     $%d  million USD\" % int(titanic.budget / 10**6))\n",
    "print(\"Box office: $%.2f billion USD\" % (titanic.box_office / 10**9))\n",
    "\n",
    "display(Image(titanic.wiki_poster_url))"
   ]
  },
  {
   "cell_type": "markdown",
   "metadata": {},
   "source": [
    "As mentioned, the analysis is focused on the starring actors within the film. For simplicity we will recreate our dataset to contain only the features we will need. It may be valuable to note, the **starring_columns** list will be used frequently over the course of the analysis."
   ]
  },
  {
   "cell_type": "code",
   "execution_count": 5,
   "metadata": {},
   "outputs": [
    {
     "data": {
      "text/html": [
       "<div>\n",
       "<style scoped>\n",
       "    .dataframe tbody tr th:only-of-type {\n",
       "        vertical-align: middle;\n",
       "    }\n",
       "\n",
       "    .dataframe tbody tr th {\n",
       "        vertical-align: top;\n",
       "    }\n",
       "\n",
       "    .dataframe thead th {\n",
       "        text-align: right;\n",
       "    }\n",
       "</style>\n",
       "<table border=\"1\" class=\"dataframe\">\n",
       "  <thead>\n",
       "    <tr style=\"text-align: right;\">\n",
       "      <th></th>\n",
       "      <th>title</th>\n",
       "      <th>budget</th>\n",
       "      <th>box_office</th>\n",
       "      <th>released</th>\n",
       "      <th>starring_0</th>\n",
       "      <th>starring_1</th>\n",
       "      <th>starring_2</th>\n",
       "      <th>starring_3</th>\n",
       "      <th>starring_4</th>\n",
       "      <th>starring_5</th>\n",
       "      <th>starring_6</th>\n",
       "      <th>starring_7</th>\n",
       "    </tr>\n",
       "  </thead>\n",
       "  <tbody>\n",
       "    <tr>\n",
       "      <th>0</th>\n",
       "      <td>Avatar</td>\n",
       "      <td>237000000.0</td>\n",
       "      <td>2.788000e+09</td>\n",
       "      <td>2009-12-18</td>\n",
       "      <td>Sam Worthington</td>\n",
       "      <td>Zoe Saldana</td>\n",
       "      <td>Stephen Lang</td>\n",
       "      <td>Michelle Rodriguez</td>\n",
       "      <td>Sigourney Weaver</td>\n",
       "      <td>NaN</td>\n",
       "      <td>NaN</td>\n",
       "      <td>NaN</td>\n",
       "    </tr>\n",
       "    <tr>\n",
       "      <th>1</th>\n",
       "      <td>Titanic</td>\n",
       "      <td>200000000.0</td>\n",
       "      <td>2.187000e+09</td>\n",
       "      <td>1997-12-19</td>\n",
       "      <td>Leonardo DiCaprio</td>\n",
       "      <td>Kate Winslet</td>\n",
       "      <td>Billy Zane</td>\n",
       "      <td>Kathy Bates</td>\n",
       "      <td>Frances Fisher</td>\n",
       "      <td>Bernard Hill</td>\n",
       "      <td>Jonathan Hyde</td>\n",
       "      <td>Danny Nucci</td>\n",
       "    </tr>\n",
       "    <tr>\n",
       "      <th>2</th>\n",
       "      <td>Star Wars: The Force Awakens</td>\n",
       "      <td>306000000.0</td>\n",
       "      <td>2.068000e+09</td>\n",
       "      <td>2015-12-18</td>\n",
       "      <td>Harrison Ford</td>\n",
       "      <td>Mark Hamill</td>\n",
       "      <td>Carrie Fisher</td>\n",
       "      <td>Adam Driver</td>\n",
       "      <td>Daisy Ridley</td>\n",
       "      <td>John Boyega</td>\n",
       "      <td>Oscar Isaac</td>\n",
       "      <td>Lupita Nyong'o</td>\n",
       "    </tr>\n",
       "    <tr>\n",
       "      <th>3</th>\n",
       "      <td>Jurassic World</td>\n",
       "      <td>150000000.0</td>\n",
       "      <td>1.672000e+09</td>\n",
       "      <td>2015-12-06</td>\n",
       "      <td>Chris Pratt</td>\n",
       "      <td>Bryce Dallas Howard</td>\n",
       "      <td>Vincent D'Onofrio</td>\n",
       "      <td>Ty Simpkins</td>\n",
       "      <td>Nick Robinson</td>\n",
       "      <td>Omar Sy</td>\n",
       "      <td>BD Wong</td>\n",
       "      <td>Irrfan Khan</td>\n",
       "    </tr>\n",
       "    <tr>\n",
       "      <th>4</th>\n",
       "      <td>The Avengers</td>\n",
       "      <td>220000000.0</td>\n",
       "      <td>1.519000e+09</td>\n",
       "      <td>2012-04-05</td>\n",
       "      <td>Robert Downey Jr.</td>\n",
       "      <td>Chris Evans</td>\n",
       "      <td>Mark Ruffalo</td>\n",
       "      <td>Chris Hemsworth</td>\n",
       "      <td>Scarlett Johansson</td>\n",
       "      <td>Jeremy Renner</td>\n",
       "      <td>Tom Hiddleston</td>\n",
       "      <td>Clark Gregg</td>\n",
       "    </tr>\n",
       "  </tbody>\n",
       "</table>\n",
       "</div>"
      ],
      "text/plain": [
       "                          title       budget    box_office   released  \\\n",
       "0                        Avatar  237000000.0  2.788000e+09 2009-12-18   \n",
       "1                       Titanic  200000000.0  2.187000e+09 1997-12-19   \n",
       "2  Star Wars: The Force Awakens  306000000.0  2.068000e+09 2015-12-18   \n",
       "3                Jurassic World  150000000.0  1.672000e+09 2015-12-06   \n",
       "4                  The Avengers  220000000.0  1.519000e+09 2012-04-05   \n",
       "\n",
       "          starring_0           starring_1         starring_2  \\\n",
       "0    Sam Worthington          Zoe Saldana       Stephen Lang   \n",
       "1  Leonardo DiCaprio         Kate Winslet         Billy Zane   \n",
       "2      Harrison Ford          Mark Hamill      Carrie Fisher   \n",
       "3        Chris Pratt  Bryce Dallas Howard  Vincent D'Onofrio   \n",
       "4  Robert Downey Jr.          Chris Evans       Mark Ruffalo   \n",
       "\n",
       "           starring_3          starring_4     starring_5      starring_6  \\\n",
       "0  Michelle Rodriguez    Sigourney Weaver            NaN             NaN   \n",
       "1         Kathy Bates      Frances Fisher   Bernard Hill   Jonathan Hyde   \n",
       "2         Adam Driver        Daisy Ridley    John Boyega     Oscar Isaac   \n",
       "3         Ty Simpkins       Nick Robinson        Omar Sy         BD Wong   \n",
       "4     Chris Hemsworth  Scarlett Johansson  Jeremy Renner  Tom Hiddleston   \n",
       "\n",
       "       starring_7  \n",
       "0             NaN  \n",
       "1     Danny Nucci  \n",
       "2  Lupita Nyong'o  \n",
       "3     Irrfan Khan  \n",
       "4     Clark Gregg  "
      ]
     },
     "execution_count": 5,
     "metadata": {},
     "output_type": "execute_result"
    }
   ],
   "source": [
    "starring_columns = [\"starring_\" + str(n) for n in range(8)]\n",
    "\n",
    "df = df[[\"title\", \"budget\", \"box_office\", \"released\"] + starring_columns]\n",
    "df.head()"
   ]
  },
  {
   "cell_type": "markdown",
   "metadata": {},
   "source": [
    "## Actors ##\n",
    "\n",
    "To determine the predictive value of the actors in the dataset we will perform some preliminary exploration, this is heavily focused on the films of which they starred in."
   ]
  },
  {
   "cell_type": "markdown",
   "metadata": {},
   "source": [
    "### Unique Actors ###\n",
    "\n",
    "Identify all actors within the dataset"
   ]
  },
  {
   "cell_type": "code",
   "execution_count": 6,
   "metadata": {},
   "outputs": [
    {
     "name": "stdout",
     "output_type": "stream",
     "text": [
      "Unique actors: 10791\n"
     ]
    }
   ],
   "source": [
    "def unique_actors(df):\n",
    "    actors = set()\n",
    "\n",
    "    for (_, film) in df.iterrows():\n",
    "        starring = [film[col] for col in starring_columns if film[col] is not np.nan]    \n",
    "        actors.update(set(starring))\n",
    "        \n",
    "    return sorted(actors)\n",
    "\n",
    "all_actors = unique_actors(df)\n",
    "print(\"Unique actors:\", len(all_actors))"
   ]
  },
  {
   "cell_type": "markdown",
   "metadata": {},
   "source": [
    "### Actor's Film History ###\n",
    "\n",
    "To understand the predictive value of an actor we can view their film history and details of each film. We can make the conjecture that **\"if an actor is starring in a higher budget film then they are more successful\"**.\n",
    "\n",
    "Create a dataset of a particular actor’s film history."
   ]
  },
  {
   "cell_type": "code",
   "execution_count": 7,
   "metadata": {},
   "outputs": [
    {
     "name": "stdout",
     "output_type": "stream",
     "text": [
      "count: 37\n"
     ]
    },
    {
     "data": {
      "text/html": [
       "<div>\n",
       "<style scoped>\n",
       "    .dataframe tbody tr th:only-of-type {\n",
       "        vertical-align: middle;\n",
       "    }\n",
       "\n",
       "    .dataframe tbody tr th {\n",
       "        vertical-align: top;\n",
       "    }\n",
       "\n",
       "    .dataframe thead th {\n",
       "        text-align: right;\n",
       "    }\n",
       "</style>\n",
       "<table border=\"1\" class=\"dataframe\">\n",
       "  <thead>\n",
       "    <tr style=\"text-align: right;\">\n",
       "      <th></th>\n",
       "      <th>title</th>\n",
       "      <th>budget</th>\n",
       "      <th>box_office</th>\n",
       "      <th>released</th>\n",
       "    </tr>\n",
       "  </thead>\n",
       "  <tbody>\n",
       "    <tr>\n",
       "      <th>300</th>\n",
       "      <td>Edge of Tomorrow</td>\n",
       "      <td>178000000.0</td>\n",
       "      <td>370000000.0</td>\n",
       "      <td>2014-06-06</td>\n",
       "    </tr>\n",
       "    <tr>\n",
       "      <th>106</th>\n",
       "      <td>Mission: Impossible – Rogue Nation</td>\n",
       "      <td>150000000.0</td>\n",
       "      <td>682700000.0</td>\n",
       "      <td>2015-07-31</td>\n",
       "    </tr>\n",
       "    <tr>\n",
       "      <th>933</th>\n",
       "      <td>Jack Reacher: Never Go Back</td>\n",
       "      <td>60000000.0</td>\n",
       "      <td>162100000.0</td>\n",
       "      <td>2016-10-21</td>\n",
       "    </tr>\n",
       "    <tr>\n",
       "      <th>256</th>\n",
       "      <td>The Mummy</td>\n",
       "      <td>125000000.0</td>\n",
       "      <td>409200000.0</td>\n",
       "      <td>2017-09-06</td>\n",
       "    </tr>\n",
       "    <tr>\n",
       "      <th>1128</th>\n",
       "      <td>American Made</td>\n",
       "      <td>50000000.0</td>\n",
       "      <td>134900000.0</td>\n",
       "      <td>2017-09-29</td>\n",
       "    </tr>\n",
       "  </tbody>\n",
       "</table>\n",
       "</div>"
      ],
      "text/plain": [
       "                                   title       budget   box_office   released\n",
       "300                     Edge of Tomorrow  178000000.0  370000000.0 2014-06-06\n",
       "106   Mission: Impossible – Rogue Nation  150000000.0  682700000.0 2015-07-31\n",
       "933          Jack Reacher: Never Go Back   60000000.0  162100000.0 2016-10-21\n",
       "256                            The Mummy  125000000.0  409200000.0 2017-09-06\n",
       "1128                       American Made   50000000.0  134900000.0 2017-09-29"
      ]
     },
     "execution_count": 7,
     "metadata": {},
     "output_type": "execute_result"
    }
   ],
   "source": [
    "def actors_films(df, actor):\n",
    "    indexes = [item for sublist in (df.loc[df[col] == actor].index for col in starring_columns) for item in sublist]\n",
    "    actor_df = df.loc[indexes]\n",
    "    actor_df.sort_values(\"released\", inplace=True)\n",
    "    actor_df.drop(columns=starring_columns, inplace=True)\n",
    "    actor_df.dropna(inplace=True)\n",
    "    \n",
    "    return actor_df\n",
    "\n",
    "actor = \"Tom Cruise\" # This variable is changable to any actor present in the films data set.\n",
    "actor_df = actors_films(df, actor)\n",
    "\n",
    "print(\"count:\", len(actor_df))\n",
    "actor_df.tail()"
   ]
  },
  {
   "cell_type": "markdown",
   "metadata": {},
   "source": [
    "We can create a plot from the actor’s film history to observe the change in monetary features of the films they have starred in over time.\n",
    "\n",
    " We can calculate a **regression line** through our plot and observe the slope. Assuming our conjecture is valid, a positive **slope** is an indication the actor’s is starring in more significant films we can suggest this means they have become more **successful** over time.\n",
    "\n",
    "The **root mean squared error (RMSE)** gives us an indication of how sporadic the dependant variable is in comparison to the trend suggested by our regression line. We should consider smaller RMSE values to mean our trend line can act as a more reliable predictor.\n",
    "\n",
    "Below is a reusable plotting function of which we will see again much later in the analysis. The cell below demonstrates the trends for our particular actor. In the following plots, the y axis is per million USD."
   ]
  },
  {
   "cell_type": "code",
   "execution_count": 8,
   "metadata": {},
   "outputs": [
    {
     "data": {
      "image/png": "[encoded data removed]",
      "text/plain": [
       "<Figure size 432x288 with 1 Axes>"
      ]
     },
     "metadata": {},
     "output_type": "display_data"
    },
    {
     "name": "stdout",
     "output_type": "stream",
     "text": [
      "slope: +3.42\n",
      "root mean squared error: 33.29\n"
     ]
    },
    {
     "data": {
      "image/png": "[encoded data removed]",
      "text/plain": [
       "<Figure size 432x288 with 1 Axes>"
      ]
     },
     "metadata": {},
     "output_type": "display_data"
    },
    {
     "name": "stdout",
     "output_type": "stream",
     "text": [
      "slope: +8.04\n",
      "root mean squared error: 157.75\n"
     ]
    }
   ],
   "source": [
    "def root_mean_squared_error(y_true, y_pred):\n",
    "    return sqrt(mean_squared_error(y_true, y_pred))\n",
    "\n",
    "\n",
    "def plot_actor(actor_df, feature, show_mean=False, show_trend=False, transform=None):\n",
    "\n",
    "    year = actor_df.released.dt.year\n",
    "    y    = actor_df[feature]\n",
    "    \n",
    "    if transform:\n",
    "        y = transform(y)\n",
    "  \n",
    "    plt.plot(year, y) # Would a scatter plot be more approriate?\n",
    "    plt.title(\"%s for Films Starring %s\" % (feature.replace(\"_\", \" \").title(), actor))\n",
    "    \n",
    "    if show_mean:\n",
    "        mean      = np.mean(y)\n",
    "        mean_line = [mean] * len(year)\n",
    "        plt.plot(year, mean_line, \"r--\")\n",
    "        \n",
    "    if show_trend:\n",
    "        fit    = np.polyfit(year, y, 1)\n",
    "        y_pred = np.poly1d(fit)(year)\n",
    "        plt.plot(year, y_pred)\n",
    "    \n",
    "    plt.show()\n",
    "    \n",
    "    if show_mean:\n",
    "        print(\"mean: %.2f\" % mean)\n",
    "        \n",
    "    if show_trend:\n",
    "        print(\"slope: %+.2f\" % fit[0])\n",
    "        print(\"root mean squared error: %.2f\" % root_mean_squared_error(y, y_pred))\n",
    "\n",
    "    \n",
    "plot_actor(actor_df, \"budget\",     show_trend=True, transform=per_million)\n",
    "plot_actor(actor_df, \"box_office\", show_trend=True, transform=per_million)"
   ]
  },
  {
   "cell_type": "markdown",
   "metadata": {},
   "source": [
    "### Actor's Metrics ###\n",
    "\n",
    "The plots above give us an insight into an actor’s success. It may be useful if we can summarise this information into a single metric which we can use to represent the actor themselves. Potential metrics we implemented below.\n",
    "\n",
    "The **'root squared mean' (RSM)** metric is very similar to RSME previously mentioned, the motivation is that data points that are larger will make a larger contribution to the overall mean.\n",
    "\n",
    "The **'applied'** metrics takes the base metric and multiplies it by the amount of films in the actor’s history. The intention is to remove the inaccuracy of high means coming from actors with small film histories and effectively create a metric of **\"how many high budget/box office films an actor has starred in\"**."
   ]
  },
  {
   "cell_type": "code",
   "execution_count": 9,
   "metadata": {},
   "outputs": [],
   "source": [
    "def count(series):\n",
    "    return len(series)\n",
    "\n",
    "def mean(series):\n",
    "    return series.mean()\n",
    "\n",
    "def rsm(series):\n",
    "    return sqrt((series **2).mean())\n",
    "\n",
    "def applied_mean(series):\n",
    "    return count(series) * mean(series)\n",
    "\n",
    "def applied_rsm(series):\n",
    "    return count(series) * rsm(series)"
   ]
  },
  {
   "cell_type": "markdown",
   "metadata": {},
   "source": [
    "Previewing the metrics for the particular actor."
   ]
  },
  {
   "cell_type": "code",
   "execution_count": 10,
   "metadata": {},
   "outputs": [
    {
     "name": "stdout",
     "output_type": "stream",
     "text": [
      "mean budget:     $69.43 Million (USD)\n",
      "rsm budget:      $85.71 Million (USD)\n",
      "\n",
      "mean box_office: $255.62 Million (USD)\n",
      "rsm box_office:  $313.16 Million (USD)\n",
      "\n",
      "applied mean box_office: $9.46 Billion (USD)\n",
      "applied rsm box_office:  $11.59 Billion (USD)\n"
     ]
    }
   ],
   "source": [
    "print(\"mean budget:     $%.2f Million (USD)\" % per_million(mean(actor_df.budget)))\n",
    "print(\"rsm budget:      $%.2f Million (USD)\" % per_million(rsm(actor_df.budget)))\n",
    "print()\n",
    "print(\"mean box_office: $%.2f Million (USD)\" % per_million(mean(actor_df.box_office)))\n",
    "print(\"rsm box_office:  $%.2f Million (USD)\" % per_million(rsm(actor_df.box_office)))\n",
    "print()\n",
    "print(\"applied mean box_office: $%.2f Billion (USD)\" % per_billion(applied_mean(actor_df.box_office)))\n",
    "print(\"applied rsm box_office:  $%.2f Billion (USD)\" % per_billion(applied_rsm(actor_df.box_office)))"
   ]
  },
  {
   "cell_type": "markdown",
   "metadata": {},
   "source": [
    "As we can now summarise an actor through their metrics we can compare a sample of actors to one another. For this we will use the value of the **applied RSM of box office** for each actor. Based on the intention behind this metric, we should expect to see the highest values attributed to well-known Hollywood names that have starred in many high budget blockbusters."
   ]
  },
  {
   "cell_type": "code",
   "execution_count": 11,
   "metadata": {},
   "outputs": [
    {
     "data": {
      "image/png": "[encoded data removed]",
      "text/plain": [
       "<Figure size 432x288 with 1 Axes>"
      ]
     },
     "metadata": {},
     "output_type": "display_data"
    }
   ],
   "source": [
    "X = sample(all_actors, 100)\n",
    "y = [applied_rsm(actors_films(df, x).box_office) for x in X] # This is expensive, consider better solution\n",
    "\n",
    "rsm_df = pd.DataFrame(y, index=X, columns=[\"box_office_rsm\"])\n",
    "rsm_df.dropna(inplace=True)\n",
    "rsm_df.sort_values(by=\"box_office_rsm\", inplace=True, ascending=False)\n",
    "\n",
    "top20 = rsm_df.head(20)\n",
    "\n",
    "plt.bar(top20.index, per_billion(top20.box_office_rsm))\n",
    "plt.title(\"Applied RSM of Box Office for a Sample of Actors\")\n",
    "plt.ylabel(\"Billion (USD)\")\n",
    "plt.xticks(rotation=-90)\n",
    "plt.show()"
   ]
  },
  {
   "cell_type": "markdown",
   "metadata": {},
   "source": [
    "## Defining Success ##\n",
    "\n",
    "Determining what makes a film successful is a predominant factor of our analysis.\n",
    "\n",
    " The **Films Dataset** offers some features we can identify and derive success indicators from, we can do the same for the **Reviews Dataset**. Some of these suggested indicators referred to **’success labels’** are listed below.\n",
    "\n",
    "Defining success is covered in much more depth in the **Reviews Analysis** notebook.\n",
    "\n",
    "### Potential Success Labels ###\n",
    "\n",
    "| Name          |Description  |\n",
    "|:-------------:|:-----------:|\n",
    "| Box Office    | **Films dataset**\n",
    "| Profit        | Box Office - Budget |\n",
    "| Margin        | Profit / Budget   |\n",
    "| Popularity    | **Reviews dataset** |\n",
    "| Vote Average  | **Reviews dataset** |\n",
    "| Category      | Vote Averge\\* |"
   ]
  },
  {
   "cell_type": "markdown",
   "metadata": {},
   "source": [
    "\\*Category is derived as discrete thresholds of Vote Averages\n",
    "\n",
    "### Reviews Dataset ###"
   ]
  },
  {
   "cell_type": "code",
   "execution_count": 12,
   "metadata": {},
   "outputs": [
    {
     "name": "stdout",
     "output_type": "stream",
     "text": [
      "count: 4803\n"
     ]
    },
    {
     "data": {
      "text/html": [
       "<div>\n",
       "<style scoped>\n",
       "    .dataframe tbody tr th:only-of-type {\n",
       "        vertical-align: middle;\n",
       "    }\n",
       "\n",
       "    .dataframe tbody tr th {\n",
       "        vertical-align: top;\n",
       "    }\n",
       "\n",
       "    .dataframe thead th {\n",
       "        text-align: right;\n",
       "    }\n",
       "</style>\n",
       "<table border=\"1\" class=\"dataframe\">\n",
       "  <thead>\n",
       "    <tr style=\"text-align: right;\">\n",
       "      <th></th>\n",
       "      <th>title</th>\n",
       "      <th>vote_average</th>\n",
       "      <th>vote_count</th>\n",
       "      <th>popularity</th>\n",
       "    </tr>\n",
       "  </thead>\n",
       "  <tbody>\n",
       "    <tr>\n",
       "      <th>0</th>\n",
       "      <td>Avatar</td>\n",
       "      <td>7.2</td>\n",
       "      <td>11800</td>\n",
       "      <td>150.437577</td>\n",
       "    </tr>\n",
       "    <tr>\n",
       "      <th>1</th>\n",
       "      <td>Pirates of the Caribbean: At World's End</td>\n",
       "      <td>6.9</td>\n",
       "      <td>4500</td>\n",
       "      <td>139.082615</td>\n",
       "    </tr>\n",
       "    <tr>\n",
       "      <th>2</th>\n",
       "      <td>Spectre</td>\n",
       "      <td>6.3</td>\n",
       "      <td>4466</td>\n",
       "      <td>107.376788</td>\n",
       "    </tr>\n",
       "    <tr>\n",
       "      <th>3</th>\n",
       "      <td>The Dark Knight Rises</td>\n",
       "      <td>7.6</td>\n",
       "      <td>9106</td>\n",
       "      <td>112.312950</td>\n",
       "    </tr>\n",
       "    <tr>\n",
       "      <th>4</th>\n",
       "      <td>John Carter</td>\n",
       "      <td>6.1</td>\n",
       "      <td>2124</td>\n",
       "      <td>43.926995</td>\n",
       "    </tr>\n",
       "  </tbody>\n",
       "</table>\n",
       "</div>"
      ],
      "text/plain": [
       "                                      title  vote_average  vote_count  \\\n",
       "0                                    Avatar           7.2       11800   \n",
       "1  Pirates of the Caribbean: At World's End           6.9        4500   \n",
       "2                                   Spectre           6.3        4466   \n",
       "3                     The Dark Knight Rises           7.6        9106   \n",
       "4                               John Carter           6.1        2124   \n",
       "\n",
       "   popularity  \n",
       "0  150.437577  \n",
       "1  139.082615  \n",
       "2  107.376788  \n",
       "3  112.312950  \n",
       "4   43.926995  "
      ]
     },
     "execution_count": 12,
     "metadata": {},
     "output_type": "execute_result"
    }
   ],
   "source": [
    "reviews_df = pd.read_csv('../data/tmdb_5000_movies.csv')[[\"title\", \"vote_average\", \"vote_count\", \"popularity\"]]\n",
    "\n",
    "print(\"count:\", len(reviews_df))\n",
    "reviews_df.head()"
   ]
  },
  {
   "cell_type": "markdown",
   "metadata": {},
   "source": [
    "### Vote Average ###\n",
    "\n",
    "As concluded in the Reviews Analysis the success label we will use for predictive modelling is the 'Vote Average'.\n",
    "\n",
    "To continue our analysis, we take the intersection of the **Films** and **Reviews** datasets. To also improve validity, we will drop sample where the vote count does not meet the threshold of 2000. Note, our intersection is substantially smaller than our original dataset."
   ]
  },
  {
   "cell_type": "code",
   "execution_count": 13,
   "metadata": {},
   "outputs": [
    {
     "name": "stdout",
     "output_type": "stream",
     "text": [
      "count: 394\n"
     ]
    },
    {
     "data": {
      "text/html": [
       "<div>\n",
       "<style scoped>\n",
       "    .dataframe tbody tr th:only-of-type {\n",
       "        vertical-align: middle;\n",
       "    }\n",
       "\n",
       "    .dataframe tbody tr th {\n",
       "        vertical-align: top;\n",
       "    }\n",
       "\n",
       "    .dataframe thead th {\n",
       "        text-align: right;\n",
       "    }\n",
       "</style>\n",
       "<table border=\"1\" class=\"dataframe\">\n",
       "  <thead>\n",
       "    <tr style=\"text-align: right;\">\n",
       "      <th></th>\n",
       "      <th>title</th>\n",
       "      <th>budget</th>\n",
       "      <th>box_office</th>\n",
       "      <th>released</th>\n",
       "      <th>starring_0</th>\n",
       "      <th>starring_1</th>\n",
       "      <th>starring_2</th>\n",
       "      <th>starring_3</th>\n",
       "      <th>starring_4</th>\n",
       "      <th>starring_5</th>\n",
       "      <th>starring_6</th>\n",
       "      <th>starring_7</th>\n",
       "      <th>vote_average</th>\n",
       "      <th>vote_count</th>\n",
       "    </tr>\n",
       "  </thead>\n",
       "  <tbody>\n",
       "    <tr>\n",
       "      <th>0</th>\n",
       "      <td>Avatar</td>\n",
       "      <td>237000000.0</td>\n",
       "      <td>2.788000e+09</td>\n",
       "      <td>2009-12-18</td>\n",
       "      <td>Sam Worthington</td>\n",
       "      <td>Zoe Saldana</td>\n",
       "      <td>Stephen Lang</td>\n",
       "      <td>Michelle Rodriguez</td>\n",
       "      <td>Sigourney Weaver</td>\n",
       "      <td>NaN</td>\n",
       "      <td>NaN</td>\n",
       "      <td>NaN</td>\n",
       "      <td>7.2</td>\n",
       "      <td>11800</td>\n",
       "    </tr>\n",
       "    <tr>\n",
       "      <th>1</th>\n",
       "      <td>Titanic</td>\n",
       "      <td>200000000.0</td>\n",
       "      <td>2.187000e+09</td>\n",
       "      <td>1997-12-19</td>\n",
       "      <td>Leonardo DiCaprio</td>\n",
       "      <td>Kate Winslet</td>\n",
       "      <td>Billy Zane</td>\n",
       "      <td>Kathy Bates</td>\n",
       "      <td>Frances Fisher</td>\n",
       "      <td>Bernard Hill</td>\n",
       "      <td>Jonathan Hyde</td>\n",
       "      <td>Danny Nucci</td>\n",
       "      <td>7.5</td>\n",
       "      <td>7562</td>\n",
       "    </tr>\n",
       "    <tr>\n",
       "      <th>3</th>\n",
       "      <td>Jurassic World</td>\n",
       "      <td>150000000.0</td>\n",
       "      <td>1.672000e+09</td>\n",
       "      <td>2015-12-06</td>\n",
       "      <td>Chris Pratt</td>\n",
       "      <td>Bryce Dallas Howard</td>\n",
       "      <td>Vincent D'Onofrio</td>\n",
       "      <td>Ty Simpkins</td>\n",
       "      <td>Nick Robinson</td>\n",
       "      <td>Omar Sy</td>\n",
       "      <td>BD Wong</td>\n",
       "      <td>Irrfan Khan</td>\n",
       "      <td>6.5</td>\n",
       "      <td>8662</td>\n",
       "    </tr>\n",
       "    <tr>\n",
       "      <th>4</th>\n",
       "      <td>The Avengers</td>\n",
       "      <td>220000000.0</td>\n",
       "      <td>1.519000e+09</td>\n",
       "      <td>2012-04-05</td>\n",
       "      <td>Robert Downey Jr.</td>\n",
       "      <td>Chris Evans</td>\n",
       "      <td>Mark Ruffalo</td>\n",
       "      <td>Chris Hemsworth</td>\n",
       "      <td>Scarlett Johansson</td>\n",
       "      <td>Jeremy Renner</td>\n",
       "      <td>Tom Hiddleston</td>\n",
       "      <td>Clark Gregg</td>\n",
       "      <td>7.4</td>\n",
       "      <td>11776</td>\n",
       "    </tr>\n",
       "    <tr>\n",
       "      <th>5</th>\n",
       "      <td>Furious 7</td>\n",
       "      <td>190000000.0</td>\n",
       "      <td>1.516000e+09</td>\n",
       "      <td>2015-03-04</td>\n",
       "      <td>Vin Diesel</td>\n",
       "      <td>Paul Walker</td>\n",
       "      <td>Dwayne \"The Rock\" Johnson</td>\n",
       "      <td>Michelle Rodriguez</td>\n",
       "      <td>Tyrese Gibson</td>\n",
       "      <td>Chris \"Ludacris\" Bridges</td>\n",
       "      <td>Jordana Brewster</td>\n",
       "      <td>Djimon Hounsou</td>\n",
       "      <td>7.3</td>\n",
       "      <td>4176</td>\n",
       "    </tr>\n",
       "  </tbody>\n",
       "</table>\n",
       "</div>"
      ],
      "text/plain": [
       "            title       budget    box_office   released         starring_0  \\\n",
       "0          Avatar  237000000.0  2.788000e+09 2009-12-18    Sam Worthington   \n",
       "1         Titanic  200000000.0  2.187000e+09 1997-12-19  Leonardo DiCaprio   \n",
       "3  Jurassic World  150000000.0  1.672000e+09 2015-12-06        Chris Pratt   \n",
       "4    The Avengers  220000000.0  1.519000e+09 2012-04-05  Robert Downey Jr.   \n",
       "5       Furious 7  190000000.0  1.516000e+09 2015-03-04         Vin Diesel   \n",
       "\n",
       "            starring_1                 starring_2          starring_3  \\\n",
       "0          Zoe Saldana               Stephen Lang  Michelle Rodriguez   \n",
       "1         Kate Winslet                 Billy Zane         Kathy Bates   \n",
       "3  Bryce Dallas Howard          Vincent D'Onofrio         Ty Simpkins   \n",
       "4          Chris Evans               Mark Ruffalo     Chris Hemsworth   \n",
       "5          Paul Walker  Dwayne \"The Rock\" Johnson  Michelle Rodriguez   \n",
       "\n",
       "           starring_4                starring_5        starring_6  \\\n",
       "0    Sigourney Weaver                       NaN               NaN   \n",
       "1      Frances Fisher              Bernard Hill     Jonathan Hyde   \n",
       "3       Nick Robinson                   Omar Sy           BD Wong   \n",
       "4  Scarlett Johansson             Jeremy Renner    Tom Hiddleston   \n",
       "5       Tyrese Gibson  Chris \"Ludacris\" Bridges  Jordana Brewster   \n",
       "\n",
       "       starring_7  vote_average  vote_count  \n",
       "0             NaN           7.2       11800  \n",
       "1     Danny Nucci           7.5        7562  \n",
       "3     Irrfan Khan           6.5        8662  \n",
       "4     Clark Gregg           7.4       11776  \n",
       "5  Djimon Hounsou           7.3        4176  "
      ]
     },
     "execution_count": 13,
     "metadata": {},
     "output_type": "execute_result"
    }
   ],
   "source": [
    "success_df = df.reset_index()\n",
    "\n",
    "# Merging\n",
    "success_df = success_df.merge(reviews_df[[\"title\", \"vote_average\", \"vote_count\"]], left_on=\"title\", right_on=\"title\")\n",
    "success_df.set_index(\"index\", inplace=True) # reset index lost in merge\n",
    "del success_df.index.name\n",
    "\n",
    "# Cleaning\n",
    "success_df.drop(success_df[success_df.vote_count < 2000].index, inplace=True) # decent sample size\n",
    "success_df.drop_duplicates(subset=[\"title\"], inplace=True) # remakes\n",
    "\n",
    "print(\"count:\", len(success_df))\n",
    "success_df.head()"
   ]
  },
  {
   "cell_type": "markdown",
   "metadata": {},
   "source": [
    "## Predicting Success ##\n",
    "\n",
    "With an established dataset now detailing both inputs and outputs we will attempt to build a predictive model.\n",
    "\n",
    "Details on alterate approaches we consider in order to create a predictive model are listed in the **Experimentation** section of this notebook."
   ]
  },
  {
   "cell_type": "markdown",
   "metadata": {},
   "source": [
    "### Actor's Vote Average ###\n",
    "\n",
    "In order to create a predictive model, we are required to encode the categorical features of our dataset, in this case that is the list of actor’s names. For our encoding we can leverage the concepts used in the **Actors** section of this notebook. We will replace the occurrence of the actor’s name with a metric based on their film history. In this case, the metric we will be observing is the actor’s mean of Vote Average for the films in which they have starred in. Instead of observing a regression line in this case we will visually observe the mean (notated by the red dashed line)."
   ]
  },
  {
   "cell_type": "code",
   "execution_count": 14,
   "metadata": {
    "scrolled": true
   },
   "outputs": [
    {
     "data": {
      "image/png": "[encoded data removed]",
      "text/plain": [
       "<Figure size 432x288 with 1 Axes>"
      ]
     },
     "metadata": {},
     "output_type": "display_data"
    },
    {
     "name": "stdout",
     "output_type": "stream",
     "text": [
      "mean: 6.69\n"
     ]
    }
   ],
   "source": [
    "actor_df = actors_films(success_df, \"Tom Cruise\")\n",
    "plot_actor(actor_df, \"vote_average\", show_mean=True)"
   ]
  },
  {
   "cell_type": "markdown",
   "metadata": {},
   "source": [
    "### Metric Encoder ###\n",
    "\n",
    "The following function performs the desired encoding, directly returning the encoded dataframe."
   ]
  },
  {
   "cell_type": "code",
   "execution_count": 15,
   "metadata": {},
   "outputs": [],
   "source": [
    "def encode_metric(df, feature, metric):\n",
    "    \n",
    "    @lru_cache(maxsize=len(all_actors))\n",
    "    def lookup(actor, feature, metric):\n",
    "        films = actors_films(df, actor)\n",
    "        return metric(films[feature])\n",
    "    \n",
    "    frame = {}\n",
    "    for (i, row) in df.iterrows():\n",
    "        values = []\n",
    "        for col in starring_columns:\n",
    "            name = row[col]\n",
    "            metric = lookup(name, feature, mean)\n",
    "            values.append(metric)\n",
    "        frame[i] = values\n",
    "    \n",
    "    return pd.DataFrame.from_dict(frame, orient=\"index\", columns=starring_columns)"
   ]
  },
  {
   "cell_type": "markdown",
   "metadata": {},
   "source": [
    "### Encoded Vote Data Frame ###"
   ]
  },
  {
   "cell_type": "code",
   "execution_count": 16,
   "metadata": {
    "scrolled": true
   },
   "outputs": [
    {
     "data": {
      "text/html": [
       "<div>\n",
       "<style scoped>\n",
       "    .dataframe tbody tr th:only-of-type {\n",
       "        vertical-align: middle;\n",
       "    }\n",
       "\n",
       "    .dataframe tbody tr th {\n",
       "        vertical-align: top;\n",
       "    }\n",
       "\n",
       "    .dataframe thead th {\n",
       "        text-align: right;\n",
       "    }\n",
       "</style>\n",
       "<table border=\"1\" class=\"dataframe\">\n",
       "  <thead>\n",
       "    <tr style=\"text-align: right;\">\n",
       "      <th></th>\n",
       "      <th>index</th>\n",
       "      <th>starring_0</th>\n",
       "      <th>starring_1</th>\n",
       "      <th>starring_2</th>\n",
       "      <th>starring_3</th>\n",
       "      <th>starring_4</th>\n",
       "      <th>starring_5</th>\n",
       "      <th>starring_6</th>\n",
       "      <th>starring_7</th>\n",
       "      <th>vote_average</th>\n",
       "    </tr>\n",
       "  </thead>\n",
       "  <tbody>\n",
       "    <tr>\n",
       "      <th>0</th>\n",
       "      <td>0</td>\n",
       "      <td>6.233333</td>\n",
       "      <td>7.3000</td>\n",
       "      <td>7.2000</td>\n",
       "      <td>6.875000</td>\n",
       "      <td>7.025000</td>\n",
       "      <td>NaN</td>\n",
       "      <td>NaN</td>\n",
       "      <td>NaN</td>\n",
       "      <td>7.2</td>\n",
       "    </tr>\n",
       "    <tr>\n",
       "      <th>1</th>\n",
       "      <td>1</td>\n",
       "      <td>7.660000</td>\n",
       "      <td>7.7000</td>\n",
       "      <td>7.5000</td>\n",
       "      <td>7.500000</td>\n",
       "      <td>7.500000</td>\n",
       "      <td>7.866667</td>\n",
       "      <td>7.500000</td>\n",
       "      <td>7.50</td>\n",
       "      <td>7.5</td>\n",
       "    </tr>\n",
       "    <tr>\n",
       "      <th>2</th>\n",
       "      <td>3</td>\n",
       "      <td>7.300000</td>\n",
       "      <td>6.0250</td>\n",
       "      <td>6.7000</td>\n",
       "      <td>6.500000</td>\n",
       "      <td>6.500000</td>\n",
       "      <td>6.500000</td>\n",
       "      <td>7.233333</td>\n",
       "      <td>6.95</td>\n",
       "      <td>6.5</td>\n",
       "    </tr>\n",
       "    <tr>\n",
       "      <th>3</th>\n",
       "      <td>4</td>\n",
       "      <td>7.112500</td>\n",
       "      <td>6.7875</td>\n",
       "      <td>7.4375</td>\n",
       "      <td>6.871429</td>\n",
       "      <td>7.211111</td>\n",
       "      <td>6.716667</td>\n",
       "      <td>6.933333</td>\n",
       "      <td>7.40</td>\n",
       "      <td>7.4</td>\n",
       "    </tr>\n",
       "    <tr>\n",
       "      <th>4</th>\n",
       "      <td>5</td>\n",
       "      <td>7.020000</td>\n",
       "      <td>6.8000</td>\n",
       "      <td>6.4500</td>\n",
       "      <td>6.875000</td>\n",
       "      <td>6.550000</td>\n",
       "      <td>7.200000</td>\n",
       "      <td>7.000000</td>\n",
       "      <td>7.00</td>\n",
       "      <td>7.3</td>\n",
       "    </tr>\n",
       "  </tbody>\n",
       "</table>\n",
       "</div>"
      ],
      "text/plain": [
       "   index  starring_0  starring_1  starring_2  starring_3  starring_4  \\\n",
       "0      0    6.233333      7.3000      7.2000    6.875000    7.025000   \n",
       "1      1    7.660000      7.7000      7.5000    7.500000    7.500000   \n",
       "2      3    7.300000      6.0250      6.7000    6.500000    6.500000   \n",
       "3      4    7.112500      6.7875      7.4375    6.871429    7.211111   \n",
       "4      5    7.020000      6.8000      6.4500    6.875000    6.550000   \n",
       "\n",
       "   starring_5  starring_6  starring_7  vote_average  \n",
       "0         NaN         NaN         NaN           7.2  \n",
       "1    7.866667    7.500000        7.50           7.5  \n",
       "2    6.500000    7.233333        6.95           6.5  \n",
       "3    6.716667    6.933333        7.40           7.4  \n",
       "4    7.200000    7.000000        7.00           7.3  "
      ]
     },
     "execution_count": 16,
     "metadata": {},
     "output_type": "execute_result"
    }
   ],
   "source": [
    "temp_df = df.loc[success_df.index]\n",
    "temp_df[\"vote_average\"] = success_df.vote_average\n",
    "\n",
    "vote_df = encode_metric(temp_df, \"vote_average\", mean)\n",
    "vote_df['vote_average'] = success_df.vote_average\n",
    "vote_df.reset_index(inplace=True) # use index field to trace back to original dataset(s)\n",
    "\n",
    "vote_df.head()"
   ]
  },
  {
   "cell_type": "markdown",
   "metadata": {},
   "source": [
    "We have established a dataset composed entirely of numerical values. One notable attribute of the encoding approach we have taken is that we are still able to maintain the order in which the actors were listed. This concept was a large motivation behind the original idea of the project and using encoding methods such as ‘One-Hot’ encoding did not cater for this."
   ]
  },
  {
   "cell_type": "markdown",
   "metadata": {},
   "source": [
    "### Predicting with Mean ###\n",
    "\n",
    "We can simply attempt to predict a films Vote Average by taking the mean of our inputs for that film.\n",
    "\n",
    "Observe both the actual and predicted vote labels along with the delta of the two in the table below."
   ]
  },
  {
   "cell_type": "code",
   "execution_count": 17,
   "metadata": {},
   "outputs": [
    {
     "data": {
      "text/html": [
       "<div>\n",
       "<style scoped>\n",
       "    .dataframe tbody tr th:only-of-type {\n",
       "        vertical-align: middle;\n",
       "    }\n",
       "\n",
       "    .dataframe tbody tr th {\n",
       "        vertical-align: top;\n",
       "    }\n",
       "\n",
       "    .dataframe thead th {\n",
       "        text-align: right;\n",
       "    }\n",
       "</style>\n",
       "<table border=\"1\" class=\"dataframe\">\n",
       "  <thead>\n",
       "    <tr style=\"text-align: right;\">\n",
       "      <th></th>\n",
       "      <th>index</th>\n",
       "      <th>starring_0</th>\n",
       "      <th>starring_1</th>\n",
       "      <th>starring_2</th>\n",
       "      <th>starring_3</th>\n",
       "      <th>starring_4</th>\n",
       "      <th>starring_5</th>\n",
       "      <th>starring_6</th>\n",
       "      <th>starring_7</th>\n",
       "      <th>vote_average</th>\n",
       "      <th>predicted_vote</th>\n",
       "      <th>predicted_delta</th>\n",
       "    </tr>\n",
       "  </thead>\n",
       "  <tbody>\n",
       "    <tr>\n",
       "      <th>389</th>\n",
       "      <td>3239</td>\n",
       "      <td>7.450000</td>\n",
       "      <td>7.50</td>\n",
       "      <td>7.666667</td>\n",
       "      <td>8.075</td>\n",
       "      <td>8.0</td>\n",
       "      <td>8.0</td>\n",
       "      <td>8.0</td>\n",
       "      <td>NaN</td>\n",
       "      <td>8.0</td>\n",
       "      <td>7.813095</td>\n",
       "      <td>0.186905</td>\n",
       "    </tr>\n",
       "    <tr>\n",
       "      <th>390</th>\n",
       "      <td>3494</td>\n",
       "      <td>7.200000</td>\n",
       "      <td>8.20</td>\n",
       "      <td>8.200000</td>\n",
       "      <td>7.100</td>\n",
       "      <td>8.2</td>\n",
       "      <td>8.2</td>\n",
       "      <td>8.2</td>\n",
       "      <td>NaN</td>\n",
       "      <td>8.2</td>\n",
       "      <td>7.900000</td>\n",
       "      <td>0.300000</td>\n",
       "    </tr>\n",
       "    <tr>\n",
       "      <th>391</th>\n",
       "      <td>4442</td>\n",
       "      <td>6.425000</td>\n",
       "      <td>6.35</td>\n",
       "      <td>6.400000</td>\n",
       "      <td>6.100</td>\n",
       "      <td>NaN</td>\n",
       "      <td>NaN</td>\n",
       "      <td>NaN</td>\n",
       "      <td>NaN</td>\n",
       "      <td>6.1</td>\n",
       "      <td>6.318750</td>\n",
       "      <td>-0.218750</td>\n",
       "    </tr>\n",
       "    <tr>\n",
       "      <th>392</th>\n",
       "      <td>5034</td>\n",
       "      <td>7.833333</td>\n",
       "      <td>7.46</td>\n",
       "      <td>7.125000</td>\n",
       "      <td>7.900</td>\n",
       "      <td>NaN</td>\n",
       "      <td>NaN</td>\n",
       "      <td>NaN</td>\n",
       "      <td>NaN</td>\n",
       "      <td>7.9</td>\n",
       "      <td>7.579583</td>\n",
       "      <td>0.320417</td>\n",
       "    </tr>\n",
       "    <tr>\n",
       "      <th>393</th>\n",
       "      <td>5879</td>\n",
       "      <td>8.075000</td>\n",
       "      <td>7.50</td>\n",
       "      <td>8.000000</td>\n",
       "      <td>7.250</td>\n",
       "      <td>8.0</td>\n",
       "      <td>7.8</td>\n",
       "      <td>NaN</td>\n",
       "      <td>NaN</td>\n",
       "      <td>8.0</td>\n",
       "      <td>7.770833</td>\n",
       "      <td>0.229167</td>\n",
       "    </tr>\n",
       "  </tbody>\n",
       "</table>\n",
       "</div>"
      ],
      "text/plain": [
       "     index  starring_0  starring_1  starring_2  starring_3  starring_4  \\\n",
       "389   3239    7.450000        7.50    7.666667       8.075         8.0   \n",
       "390   3494    7.200000        8.20    8.200000       7.100         8.2   \n",
       "391   4442    6.425000        6.35    6.400000       6.100         NaN   \n",
       "392   5034    7.833333        7.46    7.125000       7.900         NaN   \n",
       "393   5879    8.075000        7.50    8.000000       7.250         8.0   \n",
       "\n",
       "     starring_5  starring_6  starring_7  vote_average  predicted_vote  \\\n",
       "389         8.0         8.0         NaN           8.0        7.813095   \n",
       "390         8.2         8.2         NaN           8.2        7.900000   \n",
       "391         NaN         NaN         NaN           6.1        6.318750   \n",
       "392         NaN         NaN         NaN           7.9        7.579583   \n",
       "393         7.8         NaN         NaN           8.0        7.770833   \n",
       "\n",
       "     predicted_delta  \n",
       "389         0.186905  \n",
       "390         0.300000  \n",
       "391        -0.218750  \n",
       "392         0.320417  \n",
       "393         0.229167  "
      ]
     },
     "execution_count": 17,
     "metadata": {},
     "output_type": "execute_result"
    }
   ],
   "source": [
    "X = vote_df[starring_columns]\n",
    "y = vote_df.vote_average\n",
    "\n",
    "y_pred = X.mean(axis=1)\n",
    "delta  = y - y_pred\n",
    "score  = r2_score(y, y_pred)\n",
    "\n",
    "vote_df[\"predicted_vote\"]  = y_pred\n",
    "vote_df[\"predicted_delta\"] = delta\n",
    "vote_df.tail()"
   ]
  },
  {
   "cell_type": "markdown",
   "metadata": {},
   "source": [
    "Viewing the distribution of deltas gives us an insight to the nature of the variance of our predicted vote.\n",
    "\n",
    "Similarly, we can observe a considerably decent R-Squared score."
   ]
  },
  {
   "cell_type": "code",
   "execution_count": 18,
   "metadata": {},
   "outputs": [
    {
     "data": {
      "image/png": "[encoded data removed]",
      "text/plain": [
       "<Figure size 432x288 with 1 Axes>"
      ]
     },
     "metadata": {},
     "output_type": "display_data"
    },
    {
     "name": "stdout",
     "output_type": "stream",
     "text": [
      "R-Squared score: 76.22%\n"
     ]
    }
   ],
   "source": [
    "plt.title(\"Prediction Deltas\")\n",
    "plt.hist(vote_df.predicted_delta, bins=20)\n",
    "plt.show()\n",
    "\n",
    "print(\"R-Squared score: %.2f%%\" % (score * 100))"
   ]
  },
  {
   "cell_type": "markdown",
   "metadata": {},
   "source": [
    "### Linear Regression ###\n",
    "\n",
    "After a small amount of pre-processing is required to impute the NaN values in our dataset. We will fill these values with the mean of the column."
   ]
  },
  {
   "cell_type": "code",
   "execution_count": 19,
   "metadata": {},
   "outputs": [
    {
     "name": "stdout",
     "output_type": "stream",
     "text": [
      "R-Squared score: 79.80%\n"
     ]
    }
   ],
   "source": [
    "imp = SimpleImputer(missing_values=np.nan, strategy='mean')\n",
    "X = imp.fit_transform(X)\n",
    "\n",
    "scores = []\n",
    "for n in range(100):\n",
    "    X_train, X_test, y_train, y_test = train_test_split(X, y, test_size=0.2, random_state=n)\n",
    "\n",
    "    reg = LinearRegression().fit(X_train, y_train)\n",
    "    scores.append(reg.score(X_test, y_test))\n",
    "\n",
    "print(\"R-Squared score: %.2f%%\" % (np.mean(scores) * 100))"
   ]
  },
  {
   "cell_type": "markdown",
   "metadata": {},
   "source": [
    "We can observe a slight improvement when instead creating a **Linear Regression Model**.\n",
    "\n",
    "An important attribute to consider in this case is that each column represents the order of the starring actors. The coefficient for each feature factors the importance of that feature in creating the prediction and thus factors the importance of the order of which the actors were listed in."
   ]
  },
  {
   "cell_type": "code",
   "execution_count": 20,
   "metadata": {},
   "outputs": [
    {
     "name": "stdout",
     "output_type": "stream",
     "text": [
      "Coefficients of Linear Regression Model:\n",
      "starring_0: +0.230\n",
      "starring_1: +0.259\n",
      "starring_2: +0.183\n",
      "starring_3: +0.344\n",
      "starring_4: +0.271\n",
      "starring_5: +0.139\n",
      "starring_6: +0.172\n",
      "starring_7: -0.097\n"
     ]
    }
   ],
   "source": [
    "X_train, X_test, y_train, y_test = train_test_split(X, y, test_size=0.2, random_state=n)\n",
    "reg = LinearRegression().fit(X_train, y_train)\n",
    "\n",
    "print(\"Coefficients of Linear Regression Model:\")\n",
    "for item in zip(starring_columns, reg.coef_):\n",
    "    print(\"%s: %+.3f\" % item)"
   ]
  },
  {
   "cell_type": "markdown",
   "metadata": {},
   "source": [
    "### Random Forest Regressor ###\n",
    "\n",
    "As discovered in the **Reviews Analysis** the **Random Forest Regressor** was found to be the most accurate model for the **Reviews Data**. We will attempt to use this model to create a more accurate predictor compared to the current Linear Regression model."
   ]
  },
  {
   "cell_type": "code",
   "execution_count": 21,
   "metadata": {},
   "outputs": [
    {
     "name": "stdout",
     "output_type": "stream",
     "text": [
      "R-Squared score: 82.07%\n"
     ]
    }
   ],
   "source": [
    "scores = []\n",
    "for n in range(100):\n",
    "    X_train, X_test, y_train, y_test = train_test_split(X, y, test_size=0.2, random_state=n)\n",
    "\n",
    "    rfr = RandomForestRegressor(n_estimators=250).fit(X_train, y_train)\n",
    "    scores.append(rfr.score(X_test, y_test))\n",
    "\n",
    "print(\"R-Squared score: %.2f%%\" % (np.mean(scores) * 100))"
   ]
  },
  {
   "cell_type": "markdown",
   "metadata": {},
   "source": [
    "We have archived a slight yet considerable improvement in the accuracy of a regressor. We use this as our final predictive model"
   ]
  },
  {
   "cell_type": "markdown",
   "metadata": {},
   "source": [
    "## Dream Cast##\n",
    "\n",
    "The **Dream Cast** feature of the web app is an interactive component of which user can select which actors they would like to see in a film. The model will return a prediction of the Vote Average for that film.\n",
    "\n",
    "The function below allows a user to create a film in the input format the model is fit to."
   ]
  },
  {
   "cell_type": "code",
   "execution_count": 22,
   "metadata": {},
   "outputs": [
    {
     "data": {
      "text/html": [
       "<div>\n",
       "<style scoped>\n",
       "    .dataframe tbody tr th:only-of-type {\n",
       "        vertical-align: middle;\n",
       "    }\n",
       "\n",
       "    .dataframe tbody tr th {\n",
       "        vertical-align: top;\n",
       "    }\n",
       "\n",
       "    .dataframe thead th {\n",
       "        text-align: right;\n",
       "    }\n",
       "</style>\n",
       "<table border=\"1\" class=\"dataframe\">\n",
       "  <thead>\n",
       "    <tr style=\"text-align: right;\">\n",
       "      <th></th>\n",
       "      <th>title</th>\n",
       "      <th>starring_0</th>\n",
       "      <th>starring_1</th>\n",
       "      <th>starring_2</th>\n",
       "      <th>starring_3</th>\n",
       "      <th>starring_4</th>\n",
       "      <th>starring_5</th>\n",
       "      <th>starring_6</th>\n",
       "      <th>starring_7</th>\n",
       "    </tr>\n",
       "  </thead>\n",
       "  <tbody>\n",
       "    <tr>\n",
       "      <th>0</th>\n",
       "      <td>My Film</td>\n",
       "      <td>7.66</td>\n",
       "      <td>7.7</td>\n",
       "      <td>6.51818</td>\n",
       "      <td>6.76667</td>\n",
       "      <td>6.90574</td>\n",
       "      <td>6.9045</td>\n",
       "      <td>6.98561</td>\n",
       "      <td>6.98939</td>\n",
       "    </tr>\n",
       "  </tbody>\n",
       "</table>\n",
       "</div>"
      ],
      "text/plain": [
       "     title starring_0 starring_1 starring_2 starring_3 starring_4 starring_5  \\\n",
       "0  My Film       7.66        7.7    6.51818    6.76667    6.90574     6.9045   \n",
       "\n",
       "  starring_6 starring_7  \n",
       "0    6.98561    6.98939  "
      ]
     },
     "execution_count": 22,
     "metadata": {},
     "output_type": "execute_result"
    }
   ],
   "source": [
    "def make_film(title, actors, limit=8):\n",
    "    if not (0 < len(actors) < limit):\n",
    "        raise ValueError(\"Must provide between 1 and %d actors.\" % limit)\n",
    "        \n",
    "    result = {\"title\": title}\n",
    "    \n",
    "    metrics = []\n",
    "    for actor in actors:\n",
    "        films  = actors_films(success_df, actor)\n",
    "        if len(films) == 0:\n",
    "            raise ValueError(\"Invalid actor: '%s'.\" % actor)\n",
    "        \n",
    "        metric = films.vote_average.mean()\n",
    "        metrics.append(metric)\n",
    "    \n",
    "    metrics += [np.nan] * (limit - len(actors)) #fill remaining with na to be imputed\n",
    "    metrics = imp.transform([metrics])[0]\n",
    "    \n",
    "    result.update(zip(starring_columns, metrics))\n",
    "            \n",
    "    return pd.DataFrame.from_dict(result, orient=\"index\").T\n",
    "\n",
    "my_film = make_film(\"My Film\", [\"Leonardo DiCaprio\", \"Kate Winslet\", \"Will Smith\", \"Bruce Willis\"])\n",
    "my_film"
   ]
  },
  {
   "cell_type": "markdown",
   "metadata": {},
   "source": [
    "The predictor is a **Random Forest Regressor**, this time it trained the entirety of our dataset."
   ]
  },
  {
   "cell_type": "code",
   "execution_count": 30,
   "metadata": {},
   "outputs": [
    {
     "name": "stdout",
     "output_type": "stream",
     "text": [
      "Predicted vote average: 6.92\n"
     ]
    }
   ],
   "source": [
    "success_predictor = RandomForestRegressor(n_estimators=250, random_state=42).fit(X, y)\n",
    "\n",
    "def predict_success(film): # -> vote_average\n",
    "    x = film[starring_columns]\n",
    "    return success_predictor.predict(x)[0]\n",
    "\n",
    "pred = predict_success(my_film)\n",
    "print(\"Predicted vote average: %.2f\" % pred)"
   ]
  },
  {
   "cell_type": "markdown",
   "metadata": {},
   "source": [
    "We can also simply categorize our film as per the **Reviews Analysis**."
   ]
  },
  {
   "cell_type": "code",
   "execution_count": 24,
   "metadata": {},
   "outputs": [
    {
     "name": "stdout",
     "output_type": "stream",
     "text": [
      "Predicted category: B\n"
     ]
    }
   ],
   "source": [
    "def categorize(n):\n",
    "    if   n >= 7.0: return \"A\"\n",
    "    elif n >= 6.5: return \"B\"\n",
    "    elif n >= 6.0: return \"C\"\n",
    "    else:          return \"D\"\n",
    "    \n",
    "category = categorize(pred)\n",
    "print(\"Predicted category:\", category)"
   ]
  },
  {
   "cell_type": "markdown",
   "metadata": {},
   "source": [
    "## Conslusion ##\n",
    "\n",
    "We have been able to create an effective model that solely take actors as inputs and can produce what we would consider a decent success prediction. The process we took allowed to gain an understanding of how we can represent the success of an actor and through this we were able to encode our data and create a predictive model.\n",
    "\n",
    "Overall this answers the question, **yes, we can predict success solely using actors**."
   ]
  },
  {
   "cell_type": "markdown",
   "metadata": {},
   "source": [
    "## Experimentation ##\n",
    "\n",
    "The following section details approaches we attempted throughout the course of the project. This is not included as part of our analysis but as instead a reflective look over the not-so-successful and unsuccessful endeavours we took. This is **NOT** at all required to be read for understanding of the analysis or web app."
   ]
  },
  {
   "cell_type": "markdown",
   "metadata": {},
   "source": [
    "### \"N-Hot\" Encoding ###\n",
    "\n",
    "An early approach to encode the names spread over multiple columns of the data table (starring_0 - starring_8) while maintain order was to attempt an **\"N-Hot\"** encoding. \n",
    "\n",
    "This is similar to One-Hot encoding but instead of a boolean flag, we would provide an ordinal number dependant on the position of the person in the list of that particular category. The number would be the complement of the actor’s position to the amount of actor columns in the dataset (which is 8). The speculation behind this approach was that models which apply coefficients to each feature will have that amount amplified dependant on the original ordering of the columns.\n",
    "\n",
    "The following two examples use the demo data table."
   ]
  },
  {
   "cell_type": "code",
   "execution_count": 25,
   "metadata": {},
   "outputs": [
    {
     "data": {
      "text/html": [
       "<div>\n",
       "<style scoped>\n",
       "    .dataframe tbody tr th:only-of-type {\n",
       "        vertical-align: middle;\n",
       "    }\n",
       "\n",
       "    .dataframe tbody tr th {\n",
       "        vertical-align: top;\n",
       "    }\n",
       "\n",
       "    .dataframe thead th {\n",
       "        text-align: right;\n",
       "    }\n",
       "</style>\n",
       "<table border=\"1\" class=\"dataframe\">\n",
       "  <thead>\n",
       "    <tr style=\"text-align: right;\">\n",
       "      <th></th>\n",
       "      <th>title</th>\n",
       "      <th>starring_0</th>\n",
       "      <th>starring_1</th>\n",
       "      <th>starring_2</th>\n",
       "      <th>starring_3</th>\n",
       "      <th>starring_4</th>\n",
       "      <th>starring_5</th>\n",
       "      <th>starring_6</th>\n",
       "      <th>starring_7</th>\n",
       "    </tr>\n",
       "  </thead>\n",
       "  <tbody>\n",
       "    <tr>\n",
       "      <th>0</th>\n",
       "      <td>Avatar</td>\n",
       "      <td>Sam Worthington</td>\n",
       "      <td>Zoe Saldana</td>\n",
       "      <td>Stephen Lang</td>\n",
       "      <td>Michelle Rodriguez</td>\n",
       "      <td>Sigourney Weaver</td>\n",
       "      <td>NaN</td>\n",
       "      <td>NaN</td>\n",
       "      <td>NaN</td>\n",
       "    </tr>\n",
       "    <tr>\n",
       "      <th>1</th>\n",
       "      <td>Titanic</td>\n",
       "      <td>Leonardo DiCaprio</td>\n",
       "      <td>Kate Winslet</td>\n",
       "      <td>Billy Zane</td>\n",
       "      <td>Kathy Bates</td>\n",
       "      <td>Frances Fisher</td>\n",
       "      <td>Bernard Hill</td>\n",
       "      <td>Jonathan Hyde</td>\n",
       "      <td>Danny Nucci</td>\n",
       "    </tr>\n",
       "  </tbody>\n",
       "</table>\n",
       "</div>"
      ],
      "text/plain": [
       "     title         starring_0    starring_1    starring_2          starring_3  \\\n",
       "0   Avatar    Sam Worthington   Zoe Saldana  Stephen Lang  Michelle Rodriguez   \n",
       "1  Titanic  Leonardo DiCaprio  Kate Winslet    Billy Zane         Kathy Bates   \n",
       "\n",
       "         starring_4    starring_5     starring_6   starring_7  \n",
       "0  Sigourney Weaver           NaN            NaN          NaN  \n",
       "1    Frances Fisher  Bernard Hill  Jonathan Hyde  Danny Nucci  "
      ]
     },
     "execution_count": 25,
     "metadata": {},
     "output_type": "execute_result"
    }
   ],
   "source": [
    "demo_df = df.iloc[[0,1]]\n",
    "demo_df[[\"title\"] + starring_columns]"
   ]
  },
  {
   "cell_type": "code",
   "execution_count": 26,
   "metadata": {},
   "outputs": [
    {
     "data": {
      "text/html": [
       "<div>\n",
       "<style scoped>\n",
       "    .dataframe tbody tr th:only-of-type {\n",
       "        vertical-align: middle;\n",
       "    }\n",
       "\n",
       "    .dataframe tbody tr th {\n",
       "        vertical-align: top;\n",
       "    }\n",
       "\n",
       "    .dataframe thead th {\n",
       "        text-align: right;\n",
       "    }\n",
       "</style>\n",
       "<table border=\"1\" class=\"dataframe\">\n",
       "  <thead>\n",
       "    <tr style=\"text-align: right;\">\n",
       "      <th></th>\n",
       "      <th>starring_bernard_hill</th>\n",
       "      <th>starring_billy_zane</th>\n",
       "      <th>starring_danny_nucci</th>\n",
       "      <th>starring_frances_fisher</th>\n",
       "      <th>starring_jonathan_hyde</th>\n",
       "      <th>starring_kate_winslet</th>\n",
       "      <th>starring_kathy_bates</th>\n",
       "      <th>starring_leonardo_dicaprio</th>\n",
       "      <th>starring_michelle_rodriguez</th>\n",
       "      <th>starring_sam_worthington</th>\n",
       "      <th>starring_sigourney_weaver</th>\n",
       "      <th>starring_stephen_lang</th>\n",
       "      <th>starring_zoe_saldana</th>\n",
       "    </tr>\n",
       "  </thead>\n",
       "  <tbody>\n",
       "    <tr>\n",
       "      <th>0</th>\n",
       "      <td>0</td>\n",
       "      <td>0</td>\n",
       "      <td>0</td>\n",
       "      <td>0</td>\n",
       "      <td>0</td>\n",
       "      <td>0</td>\n",
       "      <td>0</td>\n",
       "      <td>0</td>\n",
       "      <td>5</td>\n",
       "      <td>8</td>\n",
       "      <td>4</td>\n",
       "      <td>6</td>\n",
       "      <td>7</td>\n",
       "    </tr>\n",
       "    <tr>\n",
       "      <th>1</th>\n",
       "      <td>3</td>\n",
       "      <td>6</td>\n",
       "      <td>1</td>\n",
       "      <td>4</td>\n",
       "      <td>2</td>\n",
       "      <td>7</td>\n",
       "      <td>5</td>\n",
       "      <td>8</td>\n",
       "      <td>0</td>\n",
       "      <td>0</td>\n",
       "      <td>0</td>\n",
       "      <td>0</td>\n",
       "      <td>0</td>\n",
       "    </tr>\n",
       "  </tbody>\n",
       "</table>\n",
       "</div>"
      ],
      "text/plain": [
       "   starring_bernard_hill  starring_billy_zane  starring_danny_nucci  \\\n",
       "0                      0                    0                     0   \n",
       "1                      3                    6                     1   \n",
       "\n",
       "   starring_frances_fisher  starring_jonathan_hyde  starring_kate_winslet  \\\n",
       "0                        0                       0                      0   \n",
       "1                        4                       2                      7   \n",
       "\n",
       "   starring_kathy_bates  starring_leonardo_dicaprio  \\\n",
       "0                     0                           0   \n",
       "1                     5                           8   \n",
       "\n",
       "   starring_michelle_rodriguez  starring_sam_worthington  \\\n",
       "0                            5                         8   \n",
       "1                            0                         0   \n",
       "\n",
       "   starring_sigourney_weaver  starring_stephen_lang  starring_zoe_saldana  \n",
       "0                          4                      6                     7  \n",
       "1                          0                      0                     0  "
      ]
     },
     "execution_count": 26,
     "metadata": {},
     "output_type": "execute_result"
    }
   ],
   "source": [
    "from unidecode import unidecode\n",
    "from itertools import repeat\n",
    "\n",
    "def clean_name(name):\n",
    "    name = unidecode(name)\n",
    "    name = name.lower()\n",
    "    name = name.replace(\" \", \"_\")\n",
    "    return name\n",
    "\n",
    "def n_hot_encode(df, limit=8):\n",
    "    actors = set()\n",
    "\n",
    "    for (_, film) in df.iterrows():\n",
    "        starring = [film[sf] for sf in starring_columns if film[sf] is not np.nan]    \n",
    "        actors.update(set(starring))\n",
    "\n",
    "    actor_columns = [\"starring_%s\" % clean_name(actor) for actor in actors]\n",
    "    film_actors = {}\n",
    "\n",
    "    for (index, col) in df[starring_columns].iterrows():\n",
    "        actor_values = dict(zip(actor_columns, repeat(0)))\n",
    "\n",
    "        for order in range(limit):\n",
    "            name = col[\"starring_\" + str(order)]\n",
    "\n",
    "            if name is np.nan:\n",
    "                break\n",
    "\n",
    "            inverse = limit - order\n",
    "            actor_col = \"starring_%s\" % clean_name(name)\n",
    "            actor_values[actor_col] = inverse\n",
    "\n",
    "        film_actors[index] = actor_values\n",
    "        \n",
    "    return film_actors\n",
    "        \n",
    "        \n",
    "n_hot_df = pd.DataFrame(n_hot_encode(demo_df)).T\n",
    "n_hot_df.head()"
   ]
  },
  {
   "cell_type": "markdown",
   "metadata": {},
   "source": [
    "You should notice the highest value (8) assigned to the actor which was listed first in the original data for that given film (Leonardo DiCaprio, Sam Worthington). As with One-Hot encoding a value of 0 is present if the actor was no in the film.\n",
    "\n",
    "We did not see significant improvements to our models when using this approach as opposed to One-Hot Encoding, we decided not to use this approach."
   ]
  },
  {
   "cell_type": "markdown",
   "metadata": {},
   "source": [
    "### One Hot Encoding ###\n",
    "\n",
    "A challenge presented to us by the nature of the dataset containing predominantly categorical variables in the form of names is having to encode the dataset before being usable to create a predictive model.\n",
    "\n",
    "Due to our categories being spread over multiple columns we built a custom One Hot encoder, it takes a prefixed argument for taking multiple features that belong to the same category such as **starring_0** and **starring_1**.\n",
    "\n",
    "It should be noted the similarities with the custom \"N-Hot\" encoder above."
   ]
  },
  {
   "cell_type": "code",
   "execution_count": 27,
   "metadata": {},
   "outputs": [
    {
     "data": {
      "text/html": [
       "<div>\n",
       "<style scoped>\n",
       "    .dataframe tbody tr th:only-of-type {\n",
       "        vertical-align: middle;\n",
       "    }\n",
       "\n",
       "    .dataframe tbody tr th {\n",
       "        vertical-align: top;\n",
       "    }\n",
       "\n",
       "    .dataframe thead th {\n",
       "        text-align: right;\n",
       "    }\n",
       "</style>\n",
       "<table border=\"1\" class=\"dataframe\">\n",
       "  <thead>\n",
       "    <tr style=\"text-align: right;\">\n",
       "      <th></th>\n",
       "      <th>starring_bernard_hill</th>\n",
       "      <th>starring_billy_zane</th>\n",
       "      <th>starring_danny_nucci</th>\n",
       "      <th>starring_frances_fisher</th>\n",
       "      <th>starring_jonathan_hyde</th>\n",
       "      <th>starring_kate_winslet</th>\n",
       "      <th>starring_kathy_bates</th>\n",
       "      <th>starring_leonardo_dicaprio</th>\n",
       "      <th>starring_michelle_rodriguez</th>\n",
       "      <th>starring_sam_worthington</th>\n",
       "      <th>starring_sigourney_weaver</th>\n",
       "      <th>starring_stephen_lang</th>\n",
       "      <th>starring_zoe_saldana</th>\n",
       "    </tr>\n",
       "  </thead>\n",
       "  <tbody>\n",
       "    <tr>\n",
       "      <th>0</th>\n",
       "      <td>0</td>\n",
       "      <td>0</td>\n",
       "      <td>0</td>\n",
       "      <td>0</td>\n",
       "      <td>0</td>\n",
       "      <td>0</td>\n",
       "      <td>0</td>\n",
       "      <td>0</td>\n",
       "      <td>1</td>\n",
       "      <td>1</td>\n",
       "      <td>1</td>\n",
       "      <td>1</td>\n",
       "      <td>1</td>\n",
       "    </tr>\n",
       "    <tr>\n",
       "      <th>1</th>\n",
       "      <td>1</td>\n",
       "      <td>1</td>\n",
       "      <td>1</td>\n",
       "      <td>1</td>\n",
       "      <td>1</td>\n",
       "      <td>1</td>\n",
       "      <td>1</td>\n",
       "      <td>1</td>\n",
       "      <td>0</td>\n",
       "      <td>0</td>\n",
       "      <td>0</td>\n",
       "      <td>0</td>\n",
       "      <td>0</td>\n",
       "    </tr>\n",
       "  </tbody>\n",
       "</table>\n",
       "</div>"
      ],
      "text/plain": [
       "   starring_bernard_hill  starring_billy_zane  starring_danny_nucci  \\\n",
       "0                      0                    0                     0   \n",
       "1                      1                    1                     1   \n",
       "\n",
       "   starring_frances_fisher  starring_jonathan_hyde  starring_kate_winslet  \\\n",
       "0                        0                       0                      0   \n",
       "1                        1                       1                      1   \n",
       "\n",
       "   starring_kathy_bates  starring_leonardo_dicaprio  \\\n",
       "0                     0                           0   \n",
       "1                     1                           1   \n",
       "\n",
       "   starring_michelle_rodriguez  starring_sam_worthington  \\\n",
       "0                            1                         1   \n",
       "1                            0                         0   \n",
       "\n",
       "   starring_sigourney_weaver  starring_stephen_lang  starring_zoe_saldana  \n",
       "0                          1                      1                     1  \n",
       "1                          0                      0                     0  "
      ]
     },
     "execution_count": 27,
     "metadata": {},
     "output_type": "execute_result"
    }
   ],
   "source": [
    "from collections import defaultdict\n",
    "\n",
    "def one_hot_encode(df, prefix):    \n",
    "    cols = [col for col in df.columns if col.startswith(prefix)]\n",
    "    sub = df[cols]\n",
    "    \n",
    "    all_actors = unique_actors(df)\n",
    "\n",
    "    encoded_columns = [prefix + \"_\" + clean_name(value) for value in all_actors]\n",
    "\n",
    "    index_values = {}\n",
    "    for (i, row) in sub.iterrows():\n",
    "        values = dict(zip(encoded_columns, repeat(0)))\n",
    "\n",
    "        for col in range(len(cols)):\n",
    "            value = row[col]\n",
    "\n",
    "            if value is np.nan:\n",
    "                break\n",
    "\n",
    "            key = prefix + \"_\" + clean_name(value)\n",
    "            values[key] = 1\n",
    "\n",
    "        index_values[i] = values\n",
    "\n",
    "    return index_values\n",
    "\n",
    "one_hot_df = pd.DataFrame(one_hot_encode(df.iloc[[0,1]], \"starring\")).T\n",
    "one_hot_df.head()"
   ]
  },
  {
   "cell_type": "markdown",
   "metadata": {},
   "source": [
    "We did not see suitable success using this approach, potentially due to the shape of the data after encoding. After attempting this we then shifted our focus to what is currently detailed in our analysis."
   ]
  },
  {
   "cell_type": "markdown",
   "metadata": {},
   "source": [
    "### Trialling Models ###\n",
    "\n",
    "#### Naive Bayes ####\n",
    "When attempting the encoding above we tested using Naive Bayes classifiers."
   ]
  },
  {
   "cell_type": "raw",
   "metadata": {},
   "source": [
    "X = encoded_df\n",
    "y = success_label\n",
    "\n",
    "scores = []\n",
    "for n in range(20):\n",
    "    X_train, X_test, y_train, y_test = train_test_split(X, y, test_size=0.2, random_state=42*n)\n",
    "\n",
    "    gnb = GaussianNB().fit(X_train, y_train)\n",
    "    scores.append(gnb.score(X_test, y_test))\n",
    "\n",
    "score = np.mean(scores)"
   ]
  },
  {
   "cell_type": "markdown",
   "metadata": {},
   "source": [
    "#### KNeighbors ####\n",
    "\n",
    "Similarly, we also attempted to use KNeighbours, with a range of number of neighbors."
   ]
  },
  {
   "cell_type": "raw",
   "metadata": {},
   "source": [
    "scores = {}\n",
    "for n in range(1, 20):\n",
    "    knn = KNeighborsClassifier(n_neighbors=n).fit(X_train, y_train)\n",
    "    scores[n] = knn.score(X_test, y_test))"
   ]
  },
  {
   "cell_type": "markdown",
   "metadata": {},
   "source": [
    "In the models above, we were only able to archive a weak classifier with accuracy just over 50%."
   ]
  },
  {
   "cell_type": "markdown",
   "metadata": {},
   "source": [
    "### Budget and Box Office ###\n",
    "\n",
    "During the exploration phase, before concluding on the success labels to use, we explored the possibility of using budget and box office. This is still present partially in our exploration of the **Actors** section of the notebook.\n",
    "\n",
    "We expected some correlation between budget and box office of our films."
   ]
  },
  {
   "cell_type": "code",
   "execution_count": 28,
   "metadata": {
    "scrolled": true
   },
   "outputs": [
    {
     "data": {
      "image/png": "[encoded data removed]",
      "text/plain": [
       "<Figure size 432x288 with 1 Axes>"
      ]
     },
     "metadata": {},
     "output_type": "display_data"
    }
   ],
   "source": [
    "plt.scatter(df.index, df.box_office / 10**9)\n",
    "plt.scatter(df.index, df.budget / 10**9, alpha=0.5)\n",
    "plt.title(\"Box Office and Budget of all Films\")\n",
    "plt.ylabel(\"Billion (USD)\")\n",
    "plt.xticks([])\n",
    "plt.legend()\n",
    "plt.show()"
   ]
  },
  {
   "cell_type": "code",
   "execution_count": 29,
   "metadata": {
    "scrolled": false
   },
   "outputs": [
    {
     "data": {
      "image/png": "[encoded data removed]",
      "text/plain": [
       "<Figure size 432x288 with 1 Axes>"
      ]
     },
     "metadata": {},
     "output_type": "display_data"
    }
   ],
   "source": [
    "plt.scatter(df.budget / 10**6, df.box_office / 10**9)\n",
    "plt.title(\"Box Office for Budget of Film\")\n",
    "plt.xlabel(\"Million (USD)\")\n",
    "plt.ylabel(\"Billion (USD)\")\n",
    "plt.show()"
   ]
  },
  {
   "cell_type": "markdown",
   "metadata": {},
   "source": [
    "This was removed as it did not fit with our analysis but still holds noteworthy to the process of finding what was fitting."
   ]
  }
 ],
 "metadata": {
  "kernelspec": {
   "display_name": "Python 3",
   "language": "python",
   "name": "python3"
  },
  "language_info": {
   "codemirror_mode": {
    "name": "ipython",
    "version": 3
   },
   "file_extension": ".py",
   "mimetype": "text/x-python",
   "name": "python",
   "nbconvert_exporter": "python",
   "pygments_lexer": "ipython3",
   "version": "3.7.1"
  }
 },
 "nbformat": 4,
 "nbformat_minor": 2
}
